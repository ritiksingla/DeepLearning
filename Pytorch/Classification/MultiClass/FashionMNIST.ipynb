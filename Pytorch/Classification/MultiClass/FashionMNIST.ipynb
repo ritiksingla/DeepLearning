{
  "nbformat": 4,
  "nbformat_minor": 0,
  "metadata": {
    "kernelspec": {
      "display_name": "Python 3",
      "language": "python",
      "name": "python3"
    },
    "language_info": {
      "codemirror_mode": {
        "name": "ipython",
        "version": 3
      },
      "file_extension": ".py",
      "mimetype": "text/x-python",
      "name": "python",
      "nbconvert_exporter": "python",
      "pygments_lexer": "ipython3",
      "version": "3.8.2"
    },
    "papermill": {
      "duration": 384.796903,
      "end_time": "2020-11-17T12:30:51.249358",
      "environment_variables": {},
      "exception": null,
      "input_path": "__notebook__.ipynb",
      "output_path": "__notebook__.ipynb",
      "parameters": {},
      "start_time": "2020-11-17T12:24:26.452455",
      "version": "2.1.0"
    },
    "colab": {
      "name": "FashionMNIST.ipynb",
      "provenance": [],
      "collapsed_sections": []
    },
    "accelerator": "GPU"
  },
  "cells": [
    {
      "cell_type": "markdown",
      "metadata": {
        "id": "qt5VbWprS9QB"
      },
      "source": [
        "### Import libraries"
      ]
    },
    {
      "cell_type": "code",
      "metadata": {
        "execution": {
          "iopub.execute_input": "2020-11-17T12:24:30.813289Z",
          "iopub.status.busy": "2020-11-17T12:24:30.812645Z",
          "iopub.status.idle": "2020-11-17T12:24:32.447043Z",
          "shell.execute_reply": "2020-11-17T12:24:32.445847Z"
        },
        "papermill": {
          "duration": 1.650284,
          "end_time": "2020-11-17T12:24:32.447169",
          "exception": false,
          "start_time": "2020-11-17T12:24:30.796885",
          "status": "completed"
        },
        "tags": [],
        "id": "ufB3F_21SuTC"
      },
      "source": [
        "import pandas as pd\n",
        "import numpy as np\n",
        "import torch\n",
        "from torchvision import datasets, transforms\n",
        "from torch.utils.data import DataLoader"
      ],
      "execution_count": 40,
      "outputs": []
    },
    {
      "cell_type": "markdown",
      "metadata": {
        "id": "F2P14BnsTBgG"
      },
      "source": [
        "### Download the data"
      ]
    },
    {
      "cell_type": "code",
      "metadata": {
        "_cell_guid": "79c7e3d0-c299-4dcb-8224-4455121ee9b0",
        "_uuid": "d629ff2d2480ee46fbb7e2d37f6b5fab8052498a",
        "execution": {
          "iopub.execute_input": "2020-11-17T12:24:32.875131Z",
          "iopub.status.busy": "2020-11-17T12:24:32.874442Z",
          "iopub.status.idle": "2020-11-17T12:24:37.613586Z",
          "shell.execute_reply": "2020-11-17T12:24:37.612723Z"
        },
        "papermill": {
          "duration": 4.757955,
          "end_time": "2020-11-17T12:24:37.613759",
          "exception": false,
          "start_time": "2020-11-17T12:24:32.855804",
          "status": "completed"
        },
        "tags": [],
        "id": "gJLkzcjxSuTH"
      },
      "source": [
        "transform = transforms.Compose([transforms.ToTensor(), transforms.Normalize((0.5,),(0.5,))])\n",
        "\n",
        "trainset = datasets.FashionMNIST('./', download = True , train = True, transform = transform)\n",
        "trainloader = DataLoader(trainset, batch_size = 64, shuffle = True)\n",
        "\n",
        "testset = datasets.FashionMNIST('./', download = True, train = False, transform = transform)\n",
        "testloader = DataLoader(testset, batch_size = 64, shuffle = True)"
      ],
      "execution_count": 41,
      "outputs": []
    },
    {
      "cell_type": "markdown",
      "metadata": {
        "id": "LY4nH9CgSqbc"
      },
      "source": [
        "### Helper Function to visualize MNIST and FashionMNSIT dataset"
      ]
    },
    {
      "cell_type": "code",
      "metadata": {
        "execution": {
          "iopub.status.busy": "2021-05-20T08:09:12.935368Z",
          "iopub.execute_input": "2021-05-20T08:09:12.935681Z",
          "iopub.status.idle": "2021-05-20T08:09:12.948726Z",
          "shell.execute_reply.started": "2021-05-20T08:09:12.935651Z",
          "shell.execute_reply": "2021-05-20T08:09:12.947049Z"
        },
        "trusted": true,
        "id": "hZruAhQSSqbd"
      },
      "source": [
        "import matplotlib.pyplot as plt\n",
        "def view_classify(img, ps, version=\"MNIST\"):\n",
        "    ''' Function for viewing an image and it's predicted classes.\n",
        "    '''\n",
        "    ps = ps.data.numpy().squeeze()\n",
        "\n",
        "    fig, (ax1, ax2) = plt.subplots(figsize=(6,9), ncols=2)\n",
        "    ax1.imshow(img.resize_(1, 28, 28).numpy().squeeze())\n",
        "    ax1.axis('off')\n",
        "    ax2.barh(np.arange(10), ps)\n",
        "    ax2.set_aspect(0.1)\n",
        "    ax2.set_yticks(np.arange(10))\n",
        "    if version == \"MNIST\":\n",
        "        ax2.set_yticklabels(np.arange(10))\n",
        "    elif version == \"Fashion\":\n",
        "        ax2.set_yticklabels(['T-shirt/top',\n",
        "                            'Trouser',\n",
        "                            'Pullover',\n",
        "                            'Dress',\n",
        "                            'Coat',\n",
        "                            'Sandal',\n",
        "                            'Shirt',\n",
        "                            'Sneaker',\n",
        "                            'Bag',\n",
        "                            'Ankle Boot'], size='small');\n",
        "    ax2.set_title('Class Probability')\n",
        "    ax2.set_xlim(0, 1.1)\n",
        "\n",
        "    plt.tight_layout()"
      ],
      "execution_count": 42,
      "outputs": []
    },
    {
      "cell_type": "markdown",
      "metadata": {
        "id": "3lLCfaNjSqbm"
      },
      "source": [
        "### Visualizing the dataset"
      ]
    },
    {
      "cell_type": "code",
      "metadata": {
        "id": "gyfZg0SeT4RC"
      },
      "source": [
        "labels_map = {\n",
        "    0: \"T-Shirt\",\n",
        "    1: \"Trouser\",\n",
        "    2: \"Pullover\",\n",
        "    3: \"Dress\",\n",
        "    4: \"Coat\",\n",
        "    5: \"Sandal\",\n",
        "    6: \"Shirt\",\n",
        "    7: \"Sneaker\",\n",
        "    8: \"Bag\",\n",
        "    9: \"Ankle Boot\",\n",
        "}"
      ],
      "execution_count": 43,
      "outputs": []
    },
    {
      "cell_type": "code",
      "metadata": {
        "execution": {
          "iopub.status.busy": "2021-05-20T08:09:16.305337Z",
          "iopub.execute_input": "2021-05-20T08:09:16.305797Z",
          "iopub.status.idle": "2021-05-20T08:09:17.252154Z",
          "shell.execute_reply.started": "2021-05-20T08:09:16.305752Z",
          "shell.execute_reply": "2021-05-20T08:09:17.251280Z"
        },
        "trusted": true,
        "id": "asFnzMDbSqbo",
        "colab": {
          "base_uri": "https://localhost:8080/",
          "height": 481
        },
        "outputId": "64761e30-db67-4063-b607-c8aeaa983be2"
      },
      "source": [
        "figure = plt.figure(figsize=(8, 8))\n",
        "cols, rows = 3, 3\n",
        "for i in range(1, cols * rows + 1):\n",
        "    sample_idx = torch.randint(len(trainset), size=(1,)).item()\n",
        "    img, label = trainset[sample_idx]\n",
        "    figure.add_subplot(rows, cols, i)\n",
        "    plt.title(labels_map[label])\n",
        "    plt.axis(\"off\")\n",
        "    plt.imshow(img.squeeze(), cmap=\"gray\")\n",
        "plt.show()"
      ],
      "execution_count": 44,
      "outputs": [
        {
          "output_type": "display_data",
          "data": {
            "image/png": "[encoded data removed]",
            "text/plain": [
              "<Figure size 576x576 with 9 Axes>"
            ]
          },
          "metadata": {
            "tags": [],
            "image/png": {
              "width": 457,
              "height": 464
            },
            "needs_background": "light"
          }
        }
      ]
    },
    {
      "cell_type": "markdown",
      "metadata": {
        "id": "0qd4Jb-SUkhK"
      },
      "source": [
        "### Define the model"
      ]
    },
    {
      "cell_type": "code",
      "metadata": {
        "execution": {
          "iopub.execute_input": "2020-11-17T12:24:37.691889Z",
          "iopub.status.busy": "2020-11-17T12:24:37.691055Z",
          "iopub.status.idle": "2020-11-17T12:24:37.694061Z",
          "shell.execute_reply": "2020-11-17T12:24:37.693507Z"
        },
        "papermill": {
          "duration": 0.024189,
          "end_time": "2020-11-17T12:24:37.694158",
          "exception": false,
          "start_time": "2020-11-17T12:24:37.669969",
          "status": "completed"
        },
        "tags": [],
        "id": "NL0_ftRoSuTI"
      },
      "source": [
        "from torch import nn, optim\n",
        "import torch.nn.functional as F"
      ],
      "execution_count": 45,
      "outputs": []
    },
    {
      "cell_type": "code",
      "metadata": {
        "execution": {
          "iopub.execute_input": "2020-11-17T12:27:47.643692Z",
          "iopub.status.busy": "2020-11-17T12:27:47.642007Z",
          "iopub.status.idle": "2020-11-17T12:27:47.644505Z",
          "shell.execute_reply": "2020-11-17T12:27:47.645000Z"
        },
        "papermill": {
          "duration": 0.037467,
          "end_time": "2020-11-17T12:27:47.645112",
          "exception": false,
          "start_time": "2020-11-17T12:27:47.607645",
          "status": "completed"
        },
        "tags": [],
        "id": "BntZ_KxkSuTM"
      },
      "source": [
        "class Classifier(nn.Module):\n",
        "    def __init__(self):\n",
        "        super().__init__()\n",
        "        self.fc1 = nn.Linear(784, 256)\n",
        "        self.fc2 = nn.Linear(256, 128)\n",
        "        self.fc3 = nn.Linear(128, 64)\n",
        "        self.fc4 = nn.Linear(64, 10)\n",
        "        \n",
        "        self.dropout = nn.Dropout(p=0.3)\n",
        "\n",
        "    def forward(self, X):\n",
        "        X = X.view(X.shape[0], -1)\n",
        "        \n",
        "        X = self.dropout(F.relu(self.fc1(X)))\n",
        "        X = self.dropout(F.relu(self.fc2(X)))\n",
        "        X = self.dropout(F.relu(self.fc3(X)))\n",
        "        \n",
        "        X = F.log_softmax(self.fc4(X), dim=1)\n",
        "\n",
        "        return X"
      ],
      "execution_count": 46,
      "outputs": []
    },
    {
      "cell_type": "code",
      "metadata": {
        "execution": {
          "iopub.execute_input": "2020-11-17T12:27:47.698772Z",
          "iopub.status.busy": "2020-11-17T12:27:47.698056Z",
          "iopub.status.idle": "2020-11-17T12:27:47.704437Z",
          "shell.execute_reply": "2020-11-17T12:27:47.703977Z"
        },
        "papermill": {
          "duration": 0.035346,
          "end_time": "2020-11-17T12:27:47.704535",
          "exception": false,
          "start_time": "2020-11-17T12:27:47.669189",
          "status": "completed"
        },
        "tags": [],
        "id": "QUay6EjsSuTM"
      },
      "source": [
        "Net = Classifier()\n",
        "criterion = nn.NLLLoss()\n",
        "optimizer = optim.Adam(Net.parameters() ,lr = 0.001)"
      ],
      "execution_count": 47,
      "outputs": []
    },
    {
      "cell_type": "markdown",
      "metadata": {
        "id": "hEWrJ2hwVF_y"
      },
      "source": [
        "### Training the model"
      ]
    },
    {
      "cell_type": "code",
      "metadata": {
        "execution": {
          "iopub.execute_input": "2020-11-17T12:27:47.768374Z",
          "iopub.status.busy": "2020-11-17T12:27:47.767036Z",
          "iopub.status.idle": "2020-11-17T12:30:50.140205Z",
          "shell.execute_reply": "2020-11-17T12:30:50.140870Z"
        },
        "papermill": {
          "duration": 182.412052,
          "end_time": "2020-11-17T12:30:50.141070",
          "exception": false,
          "start_time": "2020-11-17T12:27:47.729018",
          "status": "completed"
        },
        "tags": [],
        "colab": {
          "base_uri": "https://localhost:8080/"
        },
        "id": "QeHxJurVSuTN",
        "outputId": "0b175b33-08d2-4f9d-d0f4-0b5d15f0fffd"
      },
      "source": [
        "epochs = 5\n",
        "train_losses, test_losses = [], []\n",
        "\n",
        "for e in range(epochs):\n",
        "    train_loss = 0\n",
        "    Net.train()\n",
        "    for X_train, y_train in trainloader:        \n",
        "        optimizer.zero_grad()\n",
        "        \n",
        "        log_ps = Net(X_train)\n",
        "        loss = criterion(log_ps, y_train)\n",
        "        \n",
        "        loss.backward()\n",
        "        optimizer.step()\n",
        "        \n",
        "        train_loss += loss.item()\n",
        "    else:\n",
        "        test_loss = 0\n",
        "        accuracy = 0\n",
        "        with torch.no_grad():\n",
        "            Net.eval()\n",
        "            for X_test, y_test in testloader:                \n",
        "                log_ps = Net(X_test)\n",
        "                \n",
        "                test_loss += criterion(log_ps, y_test)\n",
        "                ps = torch.exp(log_ps)\n",
        "                \n",
        "                top_p, top_class = ps.topk(1, dim = 1)\n",
        "                equals = top_class == y_test.view(*top_class.shape)\n",
        "                accuracy += torch.mean(equals.type(torch.FloatTensor))\n",
        "        \n",
        "        train_losses.append(train_loss/len(trainloader))\n",
        "        test_losses.append(test_loss/len(testloader))\n",
        "        \n",
        "        print(\"Epoch: {}/{}.. \".format(e+1, epochs),\n",
        "              \"Training Loss: {:.3f}.. \".format(train_loss/len(trainloader)),\n",
        "              \"Test Loss: {:.3f}.. \".format(test_loss/len(testloader)),\n",
        "              \"Test Accuracy: {:.3f}\".format(accuracy/len(testloader)))"
      ],
      "execution_count": 48,
      "outputs": [
        {
          "output_type": "stream",
          "text": [
            "Epoch: 1/5..  Training Loss: 0.653..  Test Loss: 0.473..  Test Accuracy: 0.824\n",
            "Epoch: 2/5..  Training Loss: 0.478..  Test Loss: 0.448..  Test Accuracy: 0.839\n",
            "Epoch: 3/5..  Training Loss: 0.432..  Test Loss: 0.407..  Test Accuracy: 0.850\n",
            "Epoch: 4/5..  Training Loss: 0.408..  Test Loss: 0.378..  Test Accuracy: 0.863\n",
            "Epoch: 5/5..  Training Loss: 0.391..  Test Loss: 0.375..  Test Accuracy: 0.863\n"
          ],
          "name": "stdout"
        }
      ]
    },
    {
      "cell_type": "code",
      "metadata": {
        "execution": {
          "iopub.execute_input": "2020-11-17T12:30:50.250142Z",
          "iopub.status.busy": "2020-11-17T12:30:50.249189Z",
          "iopub.status.idle": "2020-11-17T12:30:50.498537Z",
          "shell.execute_reply": "2020-11-17T12:30:50.499626Z"
        },
        "papermill": {
          "duration": 0.30997,
          "end_time": "2020-11-17T12:30:50.499805",
          "exception": false,
          "start_time": "2020-11-17T12:30:50.189835",
          "status": "completed"
        },
        "tags": [],
        "colab": {
          "base_uri": "https://localhost:8080/",
          "height": 283
        },
        "id": "bq-udhfBSuTO",
        "outputId": "dc21f6e0-7714-478b-bb9b-463d7b640e09"
      },
      "source": [
        "plt.plot(train_losses, label = 'Training Loss')\n",
        "plt.plot(test_losses, label = 'Test Loss')\n",
        "plt.legend()"
      ],
      "execution_count": 49,
      "outputs": [
        {
          "output_type": "execute_result",
          "data": {
            "text/plain": [
              "<matplotlib.legend.Legend at 0x7f72efa6a6d0>"
            ]
          },
          "metadata": {
            "tags": []
          },
          "execution_count": 49
        },
        {
          "output_type": "display_data",
          "data": {
            "image/png": "[encoded data removed]",
            "text/plain": [
              "<Figure size 432x288 with 1 Axes>"
            ]
          },
          "metadata": {
            "tags": [],
            "image/png": {
              "width": 378,
              "height": 248
            },
            "needs_background": "light"
          }
        }
      ]
    },
    {
      "cell_type": "markdown",
      "metadata": {
        "id": "QZ-NgHkcVr3u"
      },
      "source": [
        "### Predicting on Test Set"
      ]
    },
    {
      "cell_type": "code",
      "metadata": {
        "colab": {
          "base_uri": "https://localhost:8080/",
          "height": 251
        },
        "id": "Bar-yENfVfKf",
        "outputId": "68709cfd-afa7-48e9-ecf2-dc10463f83ea"
      },
      "source": [
        "%matplotlib inline\n",
        "%config InlineBackend.figure_format = 'retina'\n",
        "\n",
        "import helper\n",
        "\n",
        "dataiter = iter(testloader)\n",
        "images, labels = dataiter.next()\n",
        "print(labels_map[labels[1].item()])\n",
        "img = images[1]\n",
        "\n",
        "ps = torch.exp(Net(img))\n",
        "\n",
        "view_classify(img, ps, version='Fashion')"
      ],
      "execution_count": 54,
      "outputs": [
        {
          "output_type": "stream",
          "text": [
            "Sneaker\n"
          ],
          "name": "stdout"
        },
        {
          "output_type": "display_data",
          "data": {
            "image/png": "[encoded data removed]",
            "text/plain": [
              "<Figure size 432x648 with 2 Axes>"
            ]
          },
          "metadata": {
            "tags": [],
            "image/png": {
              "width": 424,
              "height": 216
            },
            "needs_background": "light"
          }
        }
      ]
    },
    {
      "cell_type": "code",
      "metadata": {
        "id": "8IhTp9AUZeUt"
      },
      "source": [
        "X_test = []\n",
        "y_test = []\n",
        "for x,y in testset:\n",
        "    X_test.append(x)\n",
        "    y_test.append(y)"
      ],
      "execution_count": 71,
      "outputs": []
    },
    {
      "cell_type": "code",
      "metadata": {
        "id": "7bM6ZIpoajq4"
      },
      "source": [
        "X_test = torch.cat(X_test, dim = 0)"
      ],
      "execution_count": 72,
      "outputs": []
    },
    {
      "cell_type": "code",
      "metadata": {
        "id": "1PhKDPwpbTAl"
      },
      "source": [
        "y_test = torch.tensor(y_test)"
      ],
      "execution_count": 73,
      "outputs": []
    },
    {
      "cell_type": "markdown",
      "metadata": {
        "id": "2rw5ANI6ZGwd"
      },
      "source": [
        "## Accuracy of the model"
      ]
    },
    {
      "cell_type": "code",
      "metadata": {
        "colab": {
          "base_uri": "https://localhost:8080/"
        },
        "id": "oMjuRXWuZLjp",
        "outputId": "a884fc0d-b01a-42fb-8630-8daf1f259bf0"
      },
      "source": [
        "with torch.no_grad():\n",
        "    ypred = Net(X_test)\n",
        "    ps = torch.exp(ypred)\n",
        "    top_p, top_class = ps.topk(1,dim=1)\n",
        "    equals = top_class == y_test.view(*top_class.shape)\n",
        "    accuracy = torch.mean(equals.type(torch.FloatTensor))\n",
        "print('Accuracy: {:.3f}'.format(accuracy))"
      ],
      "execution_count": 74,
      "outputs": [
        {
          "output_type": "stream",
          "text": [
            "Accuracy: 0.863\n"
          ],
          "name": "stdout"
        }
      ]
    },
    {
      "cell_type": "markdown",
      "metadata": {
        "id": "nj41_NNDVXW8"
      },
      "source": [
        "### Saving the model"
      ]
    },
    {
      "cell_type": "code",
      "metadata": {
        "execution": {
          "iopub.execute_input": "2020-11-17T12:30:50.611880Z",
          "iopub.status.busy": "2020-11-17T12:30:50.610942Z",
          "iopub.status.idle": "2020-11-17T12:30:50.618277Z",
          "shell.execute_reply": "2020-11-17T12:30:50.612658Z"
        },
        "papermill": {
          "duration": 0.068052,
          "end_time": "2020-11-17T12:30:50.618409",
          "exception": false,
          "start_time": "2020-11-17T12:30:50.550357",
          "status": "completed"
        },
        "tags": [],
        "colab": {
          "base_uri": "https://localhost:8080/"
        },
        "id": "KM-k5e7CSuTP",
        "outputId": "ea927661-09be-42b1-995d-4191ba374988"
      },
      "source": [
        "print(\"Our model: \\n\\n\", Net, '\\n')\n",
        "print(\"The state dict keys: \\n\\n\", Net.state_dict().keys())"
      ],
      "execution_count": null,
      "outputs": [
        {
          "output_type": "stream",
          "text": [
            "Our model: \n",
            "\n",
            " Classifier(\n",
            "  (fc1): Linear(in_features=784, out_features=256, bias=True)\n",
            "  (fc2): Linear(in_features=256, out_features=128, bias=True)\n",
            "  (fc3): Linear(in_features=128, out_features=64, bias=True)\n",
            "  (fc4): Linear(in_features=64, out_features=10, bias=True)\n",
            "  (dropout): Dropout(p=0.2, inplace=False)\n",
            ") \n",
            "\n",
            "The state dict keys: \n",
            "\n",
            " odict_keys(['fc1.weight', 'fc1.bias', 'fc2.weight', 'fc2.bias', 'fc3.weight', 'fc3.bias', 'fc4.weight', 'fc4.bias'])\n"
          ],
          "name": "stdout"
        }
      ]
    },
    {
      "cell_type": "code",
      "metadata": {
        "execution": {
          "iopub.execute_input": "2020-11-17T12:30:50.742178Z",
          "iopub.status.busy": "2020-11-17T12:30:50.741239Z",
          "iopub.status.idle": "2020-11-17T12:30:50.745394Z",
          "shell.execute_reply": "2020-11-17T12:30:50.746804Z"
        },
        "papermill": {
          "duration": 0.079202,
          "end_time": "2020-11-17T12:30:50.747012",
          "exception": false,
          "start_time": "2020-11-17T12:30:50.667810",
          "status": "completed"
        },
        "tags": [],
        "id": "xIGS42gKSuTQ"
      },
      "source": [
        "torch.save(Net.state_dict(), 'checkpoint.pth')\n",
        "\n",
        "# Load back the saved weights and bias\n",
        "# state_dict = torch.load('checkpoint.pth')\n",
        "# new_model = Classifier()\n",
        "# new_model.load_state_dict(state_dict)"
      ],
      "execution_count": null,
      "outputs": []
    }
  ]
}